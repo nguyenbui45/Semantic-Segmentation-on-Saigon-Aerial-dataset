{
  "cells": [
    {
      "cell_type": "code",
      "execution_count": null,
      "metadata": {
        "colab": {
          "base_uri": "https://localhost:8080/"
        },
        "id": "XYUzNT8XIKOR",
        "outputId": "c84506f2-1469-4fa4-f328-13bb257c4962"
      },
      "outputs": [
        {
          "name": "stdout",
          "output_type": "stream",
          "text": [
            "Mounted at /content/drive\n"
          ]
        }
      ],
      "source": [
        "from google.colab import drive\n",
        "drive.mount('/content/drive')"
      ]
    },
    {
      "cell_type": "code",
      "execution_count": null,
      "metadata": {
        "colab": {
          "base_uri": "https://localhost:8080/"
        },
        "id": "-rOGhlWDGgvY",
        "outputId": "730f6c2b-f9c1-4bbf-9cc7-ac0e0948df2e"
      },
      "outputs": [
        {
          "name": "stdout",
          "output_type": "stream",
          "text": [
            "Looking in indexes: https://pypi.org/simple, https://us-python.pkg.dev/colab-wheels/public/simple/\n",
            "Collecting segmentation_models\n",
            "  Downloading segmentation_models-1.0.1-py3-none-any.whl (33 kB)\n",
            "Collecting keras-applications<=1.0.8,>=1.0.7\n",
            "  Downloading Keras_Applications-1.0.8-py3-none-any.whl (50 kB)\n",
            "\u001b[K     |████████████████████████████████| 50 kB 6.6 MB/s \n",
            "\u001b[?25hCollecting efficientnet==1.0.0\n",
            "  Downloading efficientnet-1.0.0-py3-none-any.whl (17 kB)\n",
            "Collecting image-classifiers==1.0.0\n",
            "  Downloading image_classifiers-1.0.0-py3-none-any.whl (19 kB)\n",
            "Requirement already satisfied: scikit-image in /usr/local/lib/python3.7/dist-packages (from efficientnet==1.0.0->segmentation_models) (0.18.3)\n",
            "Requirement already satisfied: h5py in /usr/local/lib/python3.7/dist-packages (from keras-applications<=1.0.8,>=1.0.7->segmentation_models) (3.1.0)\n",
            "Requirement already satisfied: numpy>=1.9.1 in /usr/local/lib/python3.7/dist-packages (from keras-applications<=1.0.8,>=1.0.7->segmentation_models) (1.21.6)\n",
            "Requirement already satisfied: cached-property in /usr/local/lib/python3.7/dist-packages (from h5py->keras-applications<=1.0.8,>=1.0.7->segmentation_models) (1.5.2)\n",
            "Requirement already satisfied: scipy>=1.0.1 in /usr/local/lib/python3.7/dist-packages (from scikit-image->efficientnet==1.0.0->segmentation_models) (1.4.1)\n",
            "Requirement already satisfied: PyWavelets>=1.1.1 in /usr/local/lib/python3.7/dist-packages (from scikit-image->efficientnet==1.0.0->segmentation_models) (1.3.0)\n",
            "Requirement already satisfied: matplotlib!=3.0.0,>=2.0.0 in /usr/local/lib/python3.7/dist-packages (from scikit-image->efficientnet==1.0.0->segmentation_models) (3.2.2)\n",
            "Requirement already satisfied: tifffile>=2019.7.26 in /usr/local/lib/python3.7/dist-packages (from scikit-image->efficientnet==1.0.0->segmentation_models) (2021.11.2)\n",
            "Requirement already satisfied: pillow!=7.1.0,!=7.1.1,>=4.3.0 in /usr/local/lib/python3.7/dist-packages (from scikit-image->efficientnet==1.0.0->segmentation_models) (7.1.2)\n",
            "Requirement already satisfied: imageio>=2.3.0 in /usr/local/lib/python3.7/dist-packages (from scikit-image->efficientnet==1.0.0->segmentation_models) (2.4.1)\n",
            "Requirement already satisfied: networkx>=2.0 in /usr/local/lib/python3.7/dist-packages (from scikit-image->efficientnet==1.0.0->segmentation_models) (2.6.3)\n",
            "Requirement already satisfied: pyparsing!=2.0.4,!=2.1.2,!=2.1.6,>=2.0.1 in /usr/local/lib/python3.7/dist-packages (from matplotlib!=3.0.0,>=2.0.0->scikit-image->efficientnet==1.0.0->segmentation_models) (3.0.9)\n",
            "Requirement already satisfied: cycler>=0.10 in /usr/local/lib/python3.7/dist-packages (from matplotlib!=3.0.0,>=2.0.0->scikit-image->efficientnet==1.0.0->segmentation_models) (0.11.0)\n",
            "Requirement already satisfied: kiwisolver>=1.0.1 in /usr/local/lib/python3.7/dist-packages (from matplotlib!=3.0.0,>=2.0.0->scikit-image->efficientnet==1.0.0->segmentation_models) (1.4.2)\n",
            "Requirement already satisfied: python-dateutil>=2.1 in /usr/local/lib/python3.7/dist-packages (from matplotlib!=3.0.0,>=2.0.0->scikit-image->efficientnet==1.0.0->segmentation_models) (2.8.2)\n",
            "Requirement already satisfied: typing-extensions in /usr/local/lib/python3.7/dist-packages (from kiwisolver>=1.0.1->matplotlib!=3.0.0,>=2.0.0->scikit-image->efficientnet==1.0.0->segmentation_models) (4.2.0)\n",
            "Requirement already satisfied: six>=1.5 in /usr/local/lib/python3.7/dist-packages (from python-dateutil>=2.1->matplotlib!=3.0.0,>=2.0.0->scikit-image->efficientnet==1.0.0->segmentation_models) (1.15.0)\n",
            "Installing collected packages: keras-applications, image-classifiers, efficientnet, segmentation-models\n",
            "Successfully installed efficientnet-1.0.0 image-classifiers-1.0.0 keras-applications-1.0.8 segmentation-models-1.0.1\n",
            "Segmentation Models: using `keras` framework.\n"
          ]
        }
      ],
      "source": [
        "from ast import increment_lineno\n",
        "import tensorflow as tf\n",
        "import tensorflow.keras as ks\n",
        "import numpy as np\n",
        "import os\n",
        "from tensorflow.keras.preprocessing.image import ImageDataGenerator, load_img\n",
        "from tensorflow.keras import Input, Model\n",
        "import pandas as pd\n",
        "import re\n",
        "import random\n",
        "import matplotlib.pyplot as plt\n",
        "# %matplotlib inline \n",
        "%pip install segmentation_models\n",
        "from segmentation_models import Unet, losses, metrics\n"
      ]
    },
    {
      "cell_type": "code",
      "execution_count": null,
      "metadata": {
        "id": "bn--yVTGGnPf"
      },
      "outputs": [],
      "source": [
        "dataset_img = []\n",
        "dataset_mask = []\n",
        "train_path = []\n",
        "train_ID_path = []\n",
        "val_path = []\n",
        "val_ID_path = []\n",
        "\n",
        "NUM_CLASSES = 4\n",
        "IMAGE_WIDTH = 512 \n",
        "BATCH_SIZE = 4\n",
        "BUFFER_SIZE = 50\n",
        "RESNET_BACKBONE = 'resnet50'\n",
        "INCEPTION_BACKBONE = 'inceptionv3'\n",
        "ENET_BACKBONE = 'efficientnetb4'"
      ]
    },
    {
      "cell_type": "markdown",
      "metadata": {
        "id": "fBykz_sqGtJF"
      },
      "source": [
        "## Load dataset"
      ]
    },
    {
      "cell_type": "code",
      "execution_count": null,
      "metadata": {
        "colab": {
          "base_uri": "https://localhost:8080/"
        },
        "id": "CnvhlsGmGwM_",
        "outputId": "b17751ed-91a3-4cd5-e502-bf4ec3e6e310"
      },
      "outputs": [
        {
          "name": "stdout",
          "output_type": "stream",
          "text": [
            "114\n",
            "114\n",
            "/content/drive/MyDrive/dataset/dataset_upload/18/imgFine/18_pic2.png\n",
            "/content/drive/MyDrive/dataset/dataset_upload/18/label/18_pic2_mask.png\n"
          ]
        }
      ],
      "source": [
        "PATH = r'/content/drive/MyDrive/dataset/dataset_upload/'\n",
        "IMAGE_FOLDER = 'imgFine'\n",
        "LABEL_FOLDER = 'label'\n",
        "\n",
        "def sorted_alphanumeric(data):\n",
        "    convert = lambda text: int(text) if text.isdigit() else text.lower()\n",
        "    alphanum_key = lambda key: [ convert(c) for c in re.split('([0-9]+)', key) ] \n",
        "    return sorted(data, key=alphanum_key)\n",
        "\n",
        "\n",
        "for folder in (os.listdir(PATH)):\n",
        "  image_dir = PATH + folder + '/' + IMAGE_FOLDER \n",
        "  mask_dir = PATH + folder + '/' + LABEL_FOLDER\n",
        "  for image_name in (sorted_alphanumeric(os.listdir(image_dir))):\n",
        "    dataset_img.append(image_dir + '/' + image_name)\n",
        "  for mask_name in (sorted_alphanumeric(os.listdir(mask_dir))):\n",
        "    dataset_mask.append(mask_dir + '/' + mask_name)\n",
        "\n",
        "\n",
        "print(len(dataset_img))\n",
        "print(len(dataset_mask))\n",
        "\n",
        "print(dataset_img[1])\n",
        "print(dataset_mask[1])"
      ]
    },
    {
      "cell_type": "markdown",
      "metadata": {
        "id": "HTyPs8ZIG2iC"
      },
      "source": [
        "## Shuffle the data"
      ]
    },
    {
      "cell_type": "code",
      "execution_count": null,
      "metadata": {
        "id": "oavGGca_G5M-"
      },
      "outputs": [],
      "source": [
        "random.Random(1337).shuffle(dataset_img)\n",
        "random.Random(1337).shuffle(dataset_mask)\n",
        "train_path = dataset_img[23:]\n",
        "train_ID_path = dataset_mask[23:]\n",
        "val_path = train_path[:23]\n",
        "val_ID_path = train_ID_path[:23]"
      ]
    },
    {
      "cell_type": "markdown",
      "metadata": {
        "id": "KyMS1R7qHB6B"
      },
      "source": [
        "## Read image into dataset"
      ]
    },
    {
      "cell_type": "code",
      "execution_count": null,
      "metadata": {
        "id": "M8dIqktMHEOy"
      },
      "outputs": [],
      "source": [
        "def read_image(image_path,mask=False):\n",
        "    image = tf.io.read_file(image_path)\n",
        "    if mask:\n",
        "        image = tf.image.decode_png(image, channels=1) # change PNG encoded image to uint8 tensor\n",
        "        image.set_shape([None, None, 1]) #update the shape of tensor \n",
        "        image = tf.image.resize(images=image, size=[IMAGE_WIDTH, IMAGE_WIDTH])\n",
        "    else:\n",
        "        image = tf.image.decode_png(image, channels=3)\n",
        "        image.set_shape([None, None, 3])\n",
        "        image = tf.image.resize(images=image, size=[IMAGE_WIDTH, IMAGE_WIDTH])\n",
        "        image = image / 255.0    #normalize image\n",
        "    \n",
        "    return image\n",
        "\n",
        "def load_data(image_list,mask_list):\n",
        "    image = read_image(image_list)\n",
        "    mask = read_image(mask_list,mask=True)\n",
        "\n",
        "    return image,mask\n",
        "\n",
        "def Augment(image, label):\n",
        "  # image = tf.image.central_crop(image,central_fraction=0.5)\n",
        "  image = tf.image.random_brightness(image, max_delta=0.5,seed = 1337)\n",
        "  image = tf.image.random_flip_up_down(image,seed = 50)\n",
        "\n",
        "  # label = tf.image.central_crop(label,central_fraction=0.5)\n",
        "  label = tf.image.random_flip_up_down(label,seed = 50)\n",
        "\n",
        "  return image, label\n",
        "\n",
        "def data_generator_train(image_list,mask_list):\n",
        "    dataset = tf.data.Dataset.from_tensor_slices((image_list,mask_list)) #create a dataset whose element is a slice of tensor\n",
        "    dataset = dataset.map(load_data,num_parallel_calls=tf.data.AUTOTUNE,) # map the image and mask through map function load_data\n",
        "    dataset = dataset.map(Augment)\n",
        "    dataset = dataset.batch(BATCH_SIZE,drop_remainder=True) # combine consecutive image into small batch, drop_remainder helps to prevent smaller dimenstion be created\n",
        "    dataset = dataset.shuffle(BUFFER_SIZE)\n",
        "    dataset = dataset.prefetch(buffer_size=tf.data.AUTOTUNE)\n",
        "    return dataset\n",
        "\n",
        "def data_generator_val(image_list,mask_list):\n",
        "    dataset = tf.data.Dataset.from_tensor_slices((image_list,mask_list)) #create a dataset whose element is a slice of tensor\n",
        "    dataset = dataset.map(load_data,num_parallel_calls=tf.data.AUTOTUNE,) # map the image and mask through map function load_data\n",
        "    dataset = dataset.map(Augment)\n",
        "    dataset = dataset.batch(BATCH_SIZE,drop_remainder=True) # combine consecutive image into small batch, drop_remainder helps to prevent smaller dimenstion be created       drop_remainder=True\n",
        "    return dataset"
      ]
    },
    {
      "cell_type": "markdown",
      "metadata": {
        "id": "gsAMIgZaHHIm"
      },
      "source": [
        "## Generate dataset"
      ]
    },
    {
      "cell_type": "code",
      "execution_count": null,
      "metadata": {
        "id": "6LqLA5IxHJ1i"
      },
      "outputs": [],
      "source": [
        "train_dataset = data_generator_train(train_path,train_ID_path)\n",
        "val_dataset = data_generator_val(val_path,val_ID_path)"
      ]
    },
    {
      "cell_type": "markdown",
      "metadata": {
        "id": "BuJLzT69HME_"
      },
      "source": [
        "## Define U-net model with backbone"
      ]
    },
    {
      "cell_type": "code",
      "execution_count": null,
      "metadata": {
        "colab": {
          "base_uri": "https://localhost:8080/"
        },
        "id": "3CNRzpCNHQdB",
        "outputId": "dccc3e5b-a3d4-4071-91ad-f8351881dfa7"
      },
      "outputs": [
        {
          "name": "stdout",
          "output_type": "stream",
          "text": [
            "Downloading data from https://github.com/fchollet/deep-learning-models/releases/download/v0.5/inception_v3_weights_tf_dim_ordering_tf_kernels_notop.h5\n",
            "87916544/87910968 [==============================] - 3s 0us/step\n",
            "87924736/87910968 [==============================] - 3s 0us/step\n"
          ]
        }
      ],
      "source": [
        "import segmentation_models as sm\n",
        "sm.set_framework('tf.keras')\n",
        "def U_net_option(image_width, image_height, class_num,backbone):\n",
        "    model = Unet(backbone, encoder_weights='imagenet', classes=class_num, input_shape=(image_width,image_height,3))\n",
        "    return model\n",
        "\n",
        "#model_resnet = U_net_option(IMAGE_WIDTH,IMAGE_WIDTH,NUM_CLASSES,RESNET_BACKBONE)\n",
        "model_inception = U_net_option(IMAGE_WIDTH,IMAGE_WIDTH,NUM_CLASSES,INCEPTION_BACKBONE)\n",
        "#model_resnet = U_net_option(IMAGE_WIDTH,IMAGE_WIDTH,NUM_CLASSES,ENET_BACKBONE)\n",
        "#model_e_net.summary()"
      ]
    },
    {
      "cell_type": "markdown",
      "metadata": {
        "id": "McWzlkxcHUW-"
      },
      "source": [
        "## Define loss function"
      ]
    },
    {
      "cell_type": "code",
      "execution_count": null,
      "metadata": {
        "id": "HhKWZYfIHXCR"
      },
      "outputs": [],
      "source": [
        "weights = np.array([1.0, 2.0, 8.0, 8.0])\n",
        "weights_fraction = weights / np.sum(weights)\n",
        "dice_loss = losses.DiceLoss(class_weights=weights_fraction)\n",
        "focal_loss = losses.CategoricalFocalLoss()\n",
        "total_loss = dice_loss + focal_loss"
      ]
    },
    {
      "cell_type": "markdown",
      "metadata": {
        "id": "DxFBtyB-HZ0m"
      },
      "source": [
        "## Define metrics"
      ]
    },
    {
      "cell_type": "code",
      "execution_count": null,
      "metadata": {
        "id": "jQY270NmHc7U"
      },
      "outputs": [],
      "source": [
        "metrics = [metrics.IOUScore(threshold = 0.5),metrics.FScore(threshold=0.5)]"
      ]
    },
    {
      "cell_type": "markdown",
      "metadata": {
        "id": "gh-nSA0AHftV"
      },
      "source": [
        "## Compile and fit model with backprop"
      ]
    },
    {
      "cell_type": "code",
      "execution_count": null,
      "metadata": {
        "colab": {
          "background_save": true,
          "base_uri": "https://localhost:8080/"
        },
        "id": "_hO1PXZSHnR4",
        "outputId": "15e6912c-314e-4cbb-b61c-adf5d2807842"
      },
      "outputs": [
        {
          "name": "stdout",
          "output_type": "stream",
          "text": [
            "Epoch 1/32\n",
            "22/22 [==============================] - 749s 30s/step - loss: 0.8390 - iou_score: 0.5608 - f1-score: 0.6913 - val_loss: 0.7995 - val_iou_score: 0.5690 - val_f1-score: 0.7024\n",
            "Epoch 2/32\n",
            "22/22 [==============================] - 705s 31s/step - loss: 0.7903 - iou_score: 0.7846 - f1-score: 0.8505 - val_loss: 0.7884 - val_iou_score: 0.7851 - val_f1-score: 0.8772\n",
            "Epoch 3/32\n",
            "22/22 [==============================] - 719s 32s/step - loss: 0.7734 - iou_score: 0.9596 - f1-score: 0.9762 - val_loss: 0.7828 - val_iou_score: 0.8070 - val_f1-score: 0.8903\n",
            "Epoch 4/32\n",
            "22/22 [==============================] - 713s 32s/step - loss: 0.7615 - iou_score: 1.0101 - f1-score: 1.0037 - val_loss: 0.7762 - val_iou_score: 0.8498 - val_f1-score: 0.9170\n",
            "Epoch 5/32\n",
            "22/22 [==============================] - 716s 32s/step - loss: 0.7572 - iou_score: 1.0197 - f1-score: 1.0079 - val_loss: 0.7638 - val_iou_score: 0.9330 - val_f1-score: 0.9634\n",
            "Epoch 6/32\n",
            "22/22 [==============================] - 728s 32s/step - loss: 0.7534 - iou_score: 1.0286 - f1-score: 1.0130 - val_loss: 0.7556 - val_iou_score: 1.0136 - val_f1-score: 1.0063\n",
            "Epoch 7/32\n",
            "22/22 [==============================] - 706s 31s/step - loss: 0.7502 - iou_score: 1.0453 - f1-score: 1.0216 - val_loss: 0.7636 - val_iou_score: 0.9607 - val_f1-score: 0.9797\n",
            "Epoch 8/32\n",
            "22/22 [==============================] - 705s 31s/step - loss: 0.7475 - iou_score: 1.0607 - f1-score: 1.0291 - val_loss: 0.7567 - val_iou_score: 1.0166 - val_f1-score: 1.0080\n",
            "Epoch 9/32\n",
            "22/22 [==============================] - 709s 31s/step - loss: 0.7456 - iou_score: 1.0706 - f1-score: 1.0338 - val_loss: 0.7530 - val_iou_score: 1.0548 - val_f1-score: 1.0265\n",
            "Epoch 10/32\n",
            "22/22 [==============================] - 726s 32s/step - loss: 0.7448 - iou_score: 1.0729 - f1-score: 1.0349 - val_loss: 0.7509 - val_iou_score: 1.0664 - val_f1-score: 1.0319\n",
            "Epoch 11/32\n",
            "22/22 [==============================] - 714s 31s/step - loss: 0.7437 - iou_score: 1.0769 - f1-score: 1.0368 - val_loss: 0.7499 - val_iou_score: 1.0649 - val_f1-score: 1.0313\n",
            "Epoch 12/32\n",
            "22/22 [==============================] - 721s 32s/step - loss: 0.7427 - iou_score: 1.0840 - f1-score: 1.0401 - val_loss: 0.7477 - val_iou_score: 1.0793 - val_f1-score: 1.0379\n",
            "Epoch 13/32\n",
            "22/22 [==============================] - 715s 31s/step - loss: 0.7422 - iou_score: 1.0843 - f1-score: 1.0402 - val_loss: 0.7480 - val_iou_score: 1.0800 - val_f1-score: 1.0382\n",
            "Epoch 14/32\n",
            "22/22 [==============================] - 720s 32s/step - loss: 0.7416 - iou_score: 1.0884 - f1-score: 1.0421 - val_loss: 0.7448 - val_iou_score: 1.0863 - val_f1-score: 1.0411\n",
            "Epoch 15/32\n",
            "14/22 [==================>...........] - ETA: 3:58 - loss: 0.7407 - iou_score: 1.0915 - f1-score: 1.0435"
          ]
        }
      ],
      "source": [
        "callbacks = [tf.keras.callbacks.ModelCheckpoint('/content/drive/MyDrive/dataset/SGScape_Unet_resnetv2.h5',save_best_only=True)]\n",
        "model_resnet.compile(optimizer = 'Adam',loss = total_loss,metrics = metrics)\n",
        "history = model_resnet.fit(train_dataset, validation_data = val_dataset, epochs = 32, callbacks = callbacks)"
      ]
    },
    {
      "cell_type": "code",
      "execution_count": null,
      "metadata": {
        "colab": {
          "base_uri": "https://localhost:8080/"
        },
        "id": "8NgaKP9Gv1kC",
        "outputId": "783eb477-ba12-44b4-cb2c-5e882d573302"
      },
      "outputs": [
        {
          "name": "stdout",
          "output_type": "stream",
          "text": [
            "Epoch 1/32\n",
            "22/22 [==============================] - 39s 626ms/step - loss: 0.8460 - iou_score: 0.5480 - f1-score: 0.6793 - val_loss: 2.1364 - val_iou_score: 0.0952 - val_f1-score: 0.1368\n",
            "Epoch 2/32\n",
            "22/22 [==============================] - 32s 657ms/step - loss: 0.7925 - iou_score: 0.7827 - f1-score: 0.8535 - val_loss: 0.8643 - val_iou_score: 0.3787 - val_f1-score: 0.5429\n",
            "Epoch 3/32\n",
            "22/22 [==============================] - 29s 465ms/step - loss: 0.7773 - iou_score: 0.8457 - f1-score: 0.9005 - val_loss: 0.8643 - val_iou_score: 0.3788 - val_f1-score: 0.5430\n",
            "Epoch 4/32\n",
            "22/22 [==============================] - 27s 446ms/step - loss: 0.7664 - iou_score: 0.9720 - f1-score: 0.9839 - val_loss: 0.8648 - val_iou_score: 0.3849 - val_f1-score: 0.5500\n",
            "Epoch 5/32\n",
            "22/22 [==============================] - 31s 643ms/step - loss: 0.7599 - iou_score: 1.0011 - f1-score: 0.9992 - val_loss: 0.8359 - val_iou_score: 0.5364 - val_f1-score: 0.6947\n",
            "Epoch 6/32\n",
            "22/22 [==============================] - 27s 434ms/step - loss: 0.7546 - iou_score: 1.0272 - f1-score: 1.0127 - val_loss: 1.3224 - val_iou_score: 0.3648 - val_f1-score: 0.5275\n",
            "Epoch 7/32\n",
            "22/22 [==============================] - 32s 661ms/step - loss: 0.7506 - iou_score: 1.0458 - f1-score: 1.0219 - val_loss: 0.7763 - val_iou_score: 0.9114 - val_f1-score: 0.9530\n",
            "Epoch 8/32\n",
            "22/22 [==============================] - 28s 444ms/step - loss: 0.7528 - iou_score: 1.0399 - f1-score: 1.0182 - val_loss: 0.7782 - val_iou_score: 0.9096 - val_f1-score: 0.9520\n",
            "Epoch 9/32\n",
            "22/22 [==============================] - 27s 431ms/step - loss: 0.7526 - iou_score: 1.0317 - f1-score: 1.0143 - val_loss: 0.8358 - val_iou_score: 0.8331 - val_f1-score: 0.9056\n",
            "Epoch 10/32\n",
            "22/22 [==============================] - 27s 436ms/step - loss: 0.7549 - iou_score: 1.0178 - f1-score: 1.0067 - val_loss: 0.8106 - val_iou_score: 0.6450 - val_f1-score: 0.7802\n",
            "Epoch 11/32\n",
            "22/22 [==============================] - 31s 639ms/step - loss: 0.7485 - iou_score: 1.0513 - f1-score: 1.0244 - val_loss: 0.7651 - val_iou_score: 0.9965 - val_f1-score: 0.9978\n",
            "Epoch 12/32\n",
            "22/22 [==============================] - 31s 631ms/step - loss: 0.7453 - iou_score: 1.0702 - f1-score: 1.0336 - val_loss: 0.7600 - val_iou_score: 0.9693 - val_f1-score: 0.9842\n",
            "Epoch 13/32\n",
            "22/22 [==============================] - 27s 433ms/step - loss: 0.7436 - iou_score: 1.0790 - f1-score: 1.0377 - val_loss: 1.2714 - val_iou_score: 0.4922 - val_f1-score: 0.6406\n",
            "Epoch 14/32\n",
            "22/22 [==============================] - 31s 647ms/step - loss: 0.7428 - iou_score: 1.0812 - f1-score: 1.0388 - val_loss: 0.7578 - val_iou_score: 1.0085 - val_f1-score: 1.0036\n",
            "Epoch 15/32\n",
            "22/22 [==============================] - 32s 671ms/step - loss: 0.7422 - iou_score: 1.0855 - f1-score: 1.0408 - val_loss: 0.7524 - val_iou_score: 1.0536 - val_f1-score: 1.0258\n",
            "Epoch 16/32\n",
            "22/22 [==============================] - 32s 669ms/step - loss: 0.7420 - iou_score: 1.0860 - f1-score: 1.0410 - val_loss: 0.7454 - val_iou_score: 1.0720 - val_f1-score: 1.0346\n",
            "Epoch 17/32\n",
            "22/22 [==============================] - 28s 445ms/step - loss: 0.7412 - iou_score: 1.0893 - f1-score: 1.0425 - val_loss: 0.7500 - val_iou_score: 1.0595 - val_f1-score: 1.0286\n",
            "Epoch 18/32\n",
            "22/22 [==============================] - 27s 433ms/step - loss: 0.7407 - iou_score: 1.0917 - f1-score: 1.0436 - val_loss: 0.7658 - val_iou_score: 0.9969 - val_f1-score: 0.9981\n",
            "Epoch 19/32\n",
            "22/22 [==============================] - 27s 434ms/step - loss: 0.7405 - iou_score: 1.0930 - f1-score: 1.0442 - val_loss: 0.7547 - val_iou_score: 1.0584 - val_f1-score: 1.0278\n",
            "Epoch 20/32\n",
            "22/22 [==============================] - 27s 430ms/step - loss: 0.7401 - iou_score: 1.0946 - f1-score: 1.0450 - val_loss: 0.7553 - val_iou_score: 1.0575 - val_f1-score: 1.0274\n",
            "Epoch 21/32\n",
            "22/22 [==============================] - 27s 433ms/step - loss: 0.7400 - iou_score: 1.0959 - f1-score: 1.0455 - val_loss: 0.7561 - val_iou_score: 1.0539 - val_f1-score: 1.0257\n",
            "Epoch 22/32\n",
            "22/22 [==============================] - 27s 431ms/step - loss: 0.7397 - iou_score: 1.0973 - f1-score: 1.0462 - val_loss: 0.7525 - val_iou_score: 1.0657 - val_f1-score: 1.0314\n",
            "Epoch 23/32\n",
            "22/22 [==============================] - 27s 433ms/step - loss: 0.7394 - iou_score: 1.0989 - f1-score: 1.0469 - val_loss: 0.7534 - val_iou_score: 1.0663 - val_f1-score: 1.0316\n",
            "Epoch 24/32\n",
            "22/22 [==============================] - 27s 431ms/step - loss: 0.7393 - iou_score: 1.0998 - f1-score: 1.0473 - val_loss: 0.7525 - val_iou_score: 1.0664 - val_f1-score: 1.0317\n",
            "Epoch 25/32\n",
            "22/22 [==============================] - 28s 465ms/step - loss: 0.7395 - iou_score: 1.0976 - f1-score: 1.0463 - val_loss: 0.7527 - val_iou_score: 1.0704 - val_f1-score: 1.0336\n",
            "Epoch 26/32\n",
            "22/22 [==============================] - 27s 430ms/step - loss: 0.7394 - iou_score: 1.0979 - f1-score: 1.0465 - val_loss: 0.7545 - val_iou_score: 1.0691 - val_f1-score: 1.0330\n",
            "Epoch 27/32\n",
            "22/22 [==============================] - 27s 431ms/step - loss: 0.7389 - iou_score: 1.1023 - f1-score: 1.0485 - val_loss: 0.7533 - val_iou_score: 1.0711 - val_f1-score: 1.0339\n",
            "Epoch 28/32\n",
            "22/22 [==============================] - 27s 432ms/step - loss: 0.7388 - iou_score: 1.1026 - f1-score: 1.0486 - val_loss: 0.7537 - val_iou_score: 1.0707 - val_f1-score: 1.0338\n",
            "Epoch 29/32\n",
            "22/22 [==============================] - 27s 432ms/step - loss: 0.7390 - iou_score: 1.1007 - f1-score: 1.0477 - val_loss: 0.7508 - val_iou_score: 1.0733 - val_f1-score: 1.0351\n",
            "Epoch 30/32\n",
            "22/22 [==============================] - 27s 463ms/step - loss: 0.7388 - iou_score: 1.1027 - f1-score: 1.0486 - val_loss: 0.7544 - val_iou_score: 1.0703 - val_f1-score: 1.0335\n",
            "Epoch 31/32\n",
            "22/22 [==============================] - 27s 438ms/step - loss: 0.7388 - iou_score: 1.1028 - f1-score: 1.0487 - val_loss: 0.7522 - val_iou_score: 1.0661 - val_f1-score: 1.0317\n",
            "Epoch 32/32\n",
            "22/22 [==============================] - 27s 444ms/step - loss: 0.7392 - iou_score: 1.0992 - f1-score: 1.0470 - val_loss: 0.7534 - val_iou_score: 1.0682 - val_f1-score: 1.0327\n"
          ]
        }
      ],
      "source": [
        "callbacks = [tf.keras.callbacks.ModelCheckpoint('/content/drive/MyDrive/dataset/SGScape_Unet_inceptionv2.h5',save_best_only=True)]\n",
        "model_inception.compile(optimizer = 'Adam',loss = total_loss,metrics = metrics)\n",
        "history_inception = model_inception.fit(train_dataset, validation_data = val_dataset, epochs = 32, callbacks = callbacks)"
      ]
    },
    {
      "cell_type": "code",
      "execution_count": null,
      "metadata": {
        "colab": {
          "base_uri": "https://localhost:8080/"
        },
        "id": "GUv0LHgfv2-6",
        "outputId": "691f2f0e-9607-4a22-9886-4729060694cd"
      },
      "outputs": [
        {
          "name": "stdout",
          "output_type": "stream",
          "text": [
            "Epoch 1/32\n"
          ]
        }
      ],
      "source": [
        "callbacks = [tf.keras.callbacks.ModelCheckpoint('/content/drive/MyDrive/dataset/SGScape_Unet_enet.h5',save_best_only=True)]\n",
        "model_e_net.compile(optimizer = 'Adam',loss = total_loss,metrics = metrics)\n",
        "history_enet = model_e_net.fit(train_dataset, validation_data = val_dataset, epochs = 32, callbacks = callbacks)"
      ]
    },
    {
      "cell_type": "markdown",
      "metadata": {
        "id": "RnB2r_kWT9Rp"
      },
      "source": [
        "## Plot the loss and metrics graphs for Res Net setting\n",
        "\n"
      ]
    },
    {
      "cell_type": "code",
      "execution_count": null,
      "metadata": {
        "colab": {
          "base_uri": "https://localhost:8080/",
          "height": 573
        },
        "id": "MKfbBb49UDyp",
        "outputId": "041f5ece-a08d-4128-a1ca-735842132bb1"
      },
      "outputs": [
        {
          "data": {
            "image/png": "[encoded data removed]",
            "text/plain": [
              "<Figure size 432x288 with 1 Axes>"
            ]
          },
          "metadata": {},
          "output_type": "display_data"
        },
        {
          "data": {
            "image/png": "[encoded data removed]",
            "text/plain": [
              "<Figure size 432x288 with 1 Axes>"
            ]
          },
          "metadata": {},
          "output_type": "display_data"
        }
      ],
      "source": [
        "#plot the training and validation accuracy and loss at each epoch\n",
        "loss = history.history['loss']\n",
        "val_loss = history.history['val_loss']\n",
        "epochs = range(1, len(loss) + 1)\n",
        "plt.plot(epochs, loss, 'y', label='Training loss')\n",
        "plt.plot(epochs, val_loss, 'r', label='Validation loss')\n",
        "plt.title('Training and validation loss')\n",
        "plt.xlabel('Epochs')\n",
        "plt.ylabel('Loss')\n",
        "plt.legend()\n",
        "plt.show()\n",
        "\n",
        "acc = history.history['iou_score']\n",
        "val_acc = history.history['val_iou_score']\n",
        "\n",
        "plt.plot(epochs, acc, 'y', label='Training IOU')\n",
        "plt.plot(epochs, val_acc, 'r', label='Validation IOU')\n",
        "plt.title('Training and validation IOU')\n",
        "plt.xlabel('Epochs')\n",
        "plt.ylabel('IOU')\n",
        "plt.legend()\n",
        "plt.show()\n"
      ]
    },
    {
      "cell_type": "markdown",
      "metadata": {
        "id": "GAtSgBsNxon6"
      },
      "source": [
        "## Plot the loss and metrics graphs for Inception setting"
      ]
    },
    {
      "cell_type": "code",
      "execution_count": null,
      "metadata": {
        "colab": {
          "base_uri": "https://localhost:8080/",
          "height": 573
        },
        "id": "DhzClYZ3xpDb",
        "outputId": "79b16fb8-1530-4504-9cf8-ca249e58f196"
      },
      "outputs": [
        {
          "data": {
            "image/png": "[encoded data removed]",
            "text/plain": [
              "<Figure size 432x288 with 1 Axes>"
            ]
          },
          "metadata": {},
          "output_type": "display_data"
        },
        {
          "data": {
            "image/png": "[encoded data removed]",
            "text/plain": [
              "<Figure size 432x288 with 1 Axes>"
            ]
          },
          "metadata": {},
          "output_type": "display_data"
        }
      ],
      "source": [
        "#plot the training and validation accuracy and loss at each epoch\n",
        "loss = history_inception.history['loss']\n",
        "val_loss = history_inception.history['val_loss']\n",
        "epochs = range(1, len(loss) + 1)\n",
        "plt.plot(epochs, loss, 'y', label='Training loss')\n",
        "plt.plot(epochs, val_loss, 'r', label='Validation loss')\n",
        "plt.title('Training and validation loss')\n",
        "plt.xlabel('Epochs')\n",
        "plt.ylabel('Loss')\n",
        "plt.legend()\n",
        "plt.show()\n",
        "\n",
        "acc = history_inception.history['iou_score']\n",
        "val_acc = history_inception.history['val_iou_score']\n",
        "\n",
        "plt.plot(epochs, acc, 'y', label='Training IOU')\n",
        "plt.plot(epochs, val_acc, 'r', label='Validation IOU')\n",
        "plt.title('Training and validation IOU')\n",
        "plt.xlabel('Epochs')\n",
        "plt.ylabel('IOU')\n",
        "plt.legend()\n",
        "plt.show()\n"
      ]
    },
    {
      "cell_type": "markdown",
      "metadata": {
        "id": "v_rcPcexyFjR"
      },
      "source": [
        "## Plot the loss and metrics graphs for Enet setting"
      ]
    },
    {
      "cell_type": "code",
      "execution_count": null,
      "metadata": {
        "id": "2UHwcJVuyMHp"
      },
      "outputs": [],
      "source": [
        "#plot the training and validation accuracy and loss at each epoch\n",
        "loss = history_enet.history['loss']\n",
        "val_loss = history_enet.history['val_loss']\n",
        "epochs = range(1, len(loss) + 1)\n",
        "plt.plot(epochs, loss, 'y', label='Training loss')\n",
        "plt.plot(epochs, val_loss, 'r', label='Validation loss')\n",
        "plt.title('Training and validation loss')\n",
        "plt.xlabel('Epochs')\n",
        "plt.ylabel('Loss')\n",
        "plt.legend()\n",
        "plt.show()\n",
        "\n",
        "acc = history_enet.history['iou_score']\n",
        "val_acc = history_enet.history['val_iou_score']\n",
        "\n",
        "plt.plot(epochs, acc, 'y', label='Training IOU')\n",
        "plt.plot(epochs, val_acc, 'r', label='Validation IOU')\n",
        "plt.title('Training and validation IOU')\n",
        "plt.xlabel('Epochs')\n",
        "plt.ylabel('IOU')\n",
        "plt.legend()\n",
        "plt.show()\n"
      ]
    }
  ],
  "metadata": {
    "accelerator": "GPU",
    "colab": {
      "collapsed_sections": [],
      "name": "Unet_SGScape.ipynb",
      "provenance": []
    },
    "kernelspec": {
      "display_name": "Python 3",
      "name": "python3"
    },
    "language_info": {
      "name": "python"
    }
  },
  "nbformat": 4,
  "nbformat_minor": 0
}